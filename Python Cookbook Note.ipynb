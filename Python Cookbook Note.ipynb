{
 "cells": [
  {
   "cell_type": "markdown",
   "metadata": {},
   "source": [
    "### System Operation"
   ]
  },
  {
   "cell_type": "markdown",
   "metadata": {},
   "source": [
    "#### input"
   ]
  },
  {
   "cell_type": "code",
   "execution_count": 1,
   "metadata": {},
   "outputs": [
    {
     "name": "stdout",
     "output_type": "stream",
     "text": [
      "Enter anything:a string\n",
      "a string\n"
     ]
    }
   ],
   "source": [
    "import sys\n",
    "a = input(\"Enter anything:\")\n",
    "print(a)"
   ]
  },
  {
   "cell_type": "markdown",
   "metadata": {},
   "source": [
    "#### exec 运行模块"
   ]
  },
  {
   "cell_type": "code",
   "execution_count": null,
   "metadata": {},
   "outputs": [],
   "source": [
    "exec(open('some_file.py').read())"
   ]
  },
  {
   "cell_type": "markdown",
   "metadata": {},
   "source": [
    "#### 获取文件位置"
   ]
  },
  {
   "cell_type": "code",
   "execution_count": 2,
   "metadata": {},
   "outputs": [
    {
     "data": {
      "text/plain": [
       "'/Users/lizy/my_doc/coding'"
      ]
     },
     "execution_count": 2,
     "metadata": {},
     "output_type": "execute_result"
    }
   ],
   "source": [
    "import os\n",
    "os.getcwd()"
   ]
  },
  {
   "cell_type": "markdown",
   "metadata": {},
   "source": [
    "#### 获取系统版本 & path高级设置"
   ]
  },
  {
   "cell_type": "code",
   "execution_count": 5,
   "metadata": {},
   "outputs": [
    {
     "name": "stdout",
     "output_type": "stream",
     "text": [
      "System platform:darwin\n",
      "['', '/Users/lizy/anaconda3/lib/python36.zip', '/Users/lizy/anaconda3/lib/python3.6', '/Users/lizy/anaconda3/lib/python3.6/lib-dynload', '/Users/lizy/anaconda3/lib/python3.6/site-packages', '/Users/lizy/anaconda3/lib/python3.6/site-packages/aeosa', '/Users/lizy/anaconda3/lib/python3.6/site-packages/IPython/extensions', '/Users/lizy/.ipython']\n"
     ]
    }
   ],
   "source": [
    "import sys\n",
    "print(\"System platform:\" + sys.platform)\n",
    "print(sys.path)"
   ]
  },
  {
   "cell_type": "markdown",
   "metadata": {},
   "source": [
    "# 数据结构，计算操作"
   ]
  },
  {
   "cell_type": "markdown",
   "metadata": {},
   "source": [
    "### 判断类型 "
   ]
  },
  {
   "cell_type": "code",
   "execution_count": 1,
   "metadata": {},
   "outputs": [
    {
     "name": "stdout",
     "output_type": "stream",
     "text": [
      "<class 'list'>\n",
      "True\n"
     ]
    }
   ],
   "source": [
    "l = [1,2,3]\n",
    "print(type([]))\n",
    "print(isinstance(l,list))"
   ]
  },
  {
   "cell_type": "markdown",
   "metadata": {},
   "source": [
    "### Random"
   ]
  },
  {
   "cell_type": "code",
   "execution_count": 11,
   "metadata": {},
   "outputs": [
    {
     "name": "stdout",
     "output_type": "stream",
     "text": [
      "random number: 0.6385034997652205\n",
      "random integer: 1\n",
      "###\n",
      "random choice: 4\n",
      "t\n",
      "4.537441479878097\n",
      "生成从1到100的间隔为2的随机整数: 59\n",
      "将序列a中的元素顺序打乱: [5, 7, 3, 6, 1]\n"
     ]
    }
   ],
   "source": [
    "# Random\n",
    "import random\n",
    "print(\"random number:\",random.random())\n",
    "print(\"random integer:\", random.randint(1,10) )        # 产生 1 到 10 的一个整数型随机数  \n",
    "print(\"###\")\n",
    "print(\"random choice:\",random.choice([1,2,3,4]))\n",
    "print(\"random choice:\", random.choice('tomorrow') )\n",
    "\n",
    "print( random.uniform(1.1,5.4) )     # 产生  1.1 到 5.4 之间的随机浮点数，区间可以不是整数\n",
    "   # 从序列中随机选取一个元素\n",
    "print(\"生成从1到100的间隔为2的随机整数:\", random.randrange(1,100,2) )   # 生成从1到100的间隔为2的随机整数\n",
    "\n",
    "a=[1,3,5,6,7]                # 将序列a中的元素顺序打乱\n",
    "random.shuffle(a)\n",
    "print(\"将序列a中的元素顺序打乱:\",a)"
   ]
  },
  {
   "cell_type": "markdown",
   "metadata": {},
   "source": [
    "## 字符串"
   ]
  },
  {
   "cell_type": "code",
   "execution_count": 2,
   "metadata": {},
   "outputs": [
    {
     "name": "stdout",
     "output_type": "stream",
     "text": [
      "115\n",
      "s\n",
      "s-p-a-m\n"
     ]
    }
   ],
   "source": [
    "#转码\n",
    "print(ord('s'))\n",
    "print(chr(115))\n",
    "\n",
    "#合成字符串\n",
    "L = ['s','p','a','m']\n",
    "print('-'.join(L))"
   ]
  },
  {
   "cell_type": "markdown",
   "metadata": {},
   "source": [
    "### 查找"
   ]
  },
  {
   "cell_type": "code",
   "execution_count": 42,
   "metadata": {
    "scrolled": true
   },
   "outputs": [
    {
     "name": "stdout",
     "output_type": "stream",
     "text": [
      "S = 'spam'\n",
      "###\n",
      "Ask for help!\n",
      " ['__add__', '__class__', '__contains__', '__delattr__', '__dir__', '__doc__', '__eq__', '__format__', '__ge__', '__getattribute__', '__getitem__', '__getnewargs__', '__gt__', '__hash__', '__init__', '__init_subclass__', '__iter__', '__le__', '__len__', '__lt__', '__mod__', '__mul__', '__ne__', '__new__', '__reduce__', '__reduce_ex__', '__repr__', '__rmod__', '__rmul__', '__setattr__', '__sizeof__', '__str__', '__subclasshook__', 'capitalize', 'casefold', 'center', 'count', 'encode', 'endswith', 'expandtabs', 'find', 'format', 'format_map', 'index', 'isalnum', 'isalpha', 'isdecimal', 'isdigit', 'isidentifier', 'islower', 'isnumeric', 'isprintable', 'isspace', 'istitle', 'isupper', 'join', 'ljust', 'lower', 'lstrip', 'maketrans', 'partition', 'replace', 'rfind', 'rindex', 'rjust', 'rpartition', 'rsplit', 'rstrip', 'split', 'splitlines', 'startswith', 'strip', 'swapcase', 'title', 'translate', 'upper', 'zfill']\n",
      "Help on built-in function replace:\n",
      "\n",
      "replace(...) method of builtins.str instance\n",
      "    S.replace(old, new[, count]) -> str\n",
      "    \n",
      "    Return a copy of S with all occurrences of substring\n",
      "    old replaced by new.  If the optional argument count is\n",
      "    given, only the first count occurrences are replaced.\n",
      "\n",
      "Ask for details\n",
      " None\n",
      "\n",
      "###\n",
      "S[0]: s\n",
      "查找sub-string: 1\n",
      "'a' in S?  True\n",
      "Replace 'a' with 'XYZ': sXYZm\n",
      "insert * into a string: My name is Zara and weight is 21 kg or 21.000000 / 2.100000e+01 kg!\n"
     ]
    }
   ],
   "source": [
    "S = 'spam'\n",
    "print(\"S = \\'\"+S+'\\'')\n",
    "print(\"###\")\n",
    "print(\"Ask for help!\\n\",dir(S))\n",
    "print(\"Ask for details\\n\",help(S.replace))\n",
    "print(\"\\n###\")\n",
    "print(\"S[0]:\",S[0])\n",
    "\n",
    "print(\"查找sub-string:\",S.find('pa'))\n",
    "print(\"\\'a\\' in S? \",'a' in S)\n",
    "print(\"Replace \\'a\\' with \\'XYZ\\':\", S.replace('pa','XYZ'))\n",
    "\n",
    "print('insert * into a string: My name is %s and weight is %d kg or %f / %e kg!' % ('Zara', 21,21,21))"
   ]
  },
  {
   "cell_type": "markdown",
   "metadata": {},
   "source": [
    "### 分隔，替换"
   ]
  },
  {
   "cell_type": "code",
   "execution_count": 4,
   "metadata": {
    "scrolled": true
   },
   "outputs": [
    {
     "name": "stdout",
     "output_type": "stream",
     "text": [
      "line = '\ta\u0007 ,b,c'\n",
      "sep: ['\\ta\\x07 ', 'b', 'c']\n",
      "True\n",
      "True\n",
      "\tA\u0007 ,B,C\n",
      "False\n",
      "False\n",
      "\n",
      "###\n",
      "line = 'a,b,c\\n'\n",
      "Remove space: a,b,c\n",
      "\n",
      "###\n",
      "Always\n",
      "a good\n",
      "day!\n",
      "\n",
      "###\n",
      "world hello world\n"
     ]
    }
   ],
   "source": [
    "line = \"\\ta\\a ,b,c\"\n",
    "print('line = \\''+line+'\\'')\n",
    "print(\"sep:\",line.split(','))\n",
    "\n",
    "# 起始末尾字符串\n",
    "print(line.endswith('c'))\n",
    "print(line.startswith('\\t'))\n",
    "\n",
    "#大小写\n",
    "print(line.upper())\n",
    "# isalpha()\n",
    "print(line.isalpha())\n",
    "# isdigit()\n",
    "print(line.isdigit())\n",
    "\n",
    "#remove space\n",
    "line = 'a,b,c\\n'\n",
    "print(\"\\n###\")\n",
    "print('line = \\'a,b,c\\\\n\\'')\n",
    "print('Remove space:',line.rstrip())\n",
    "\n",
    "# 三重引号\n",
    "print(\"\\n###\")\n",
    "line = \"\"\"Always\n",
    "a good\n",
    "day!\"\"\"\n",
    "print(line)\n",
    "\n",
    "# format\n",
    "print(\"\\n###\")\n",
    "print(\"{1} {0} {1}\".format(\"hello\", \"world\"))  # 设置指定位置"
   ]
  },
  {
   "cell_type": "markdown",
   "metadata": {},
   "source": [
    "### 切片 "
   ]
  },
  {
   "cell_type": "code",
   "execution_count": 23,
   "metadata": {},
   "outputs": [
    {
     "name": "stdout",
     "output_type": "stream",
     "text": [
      "s = 012345678\n",
      "1357\n",
      "02468\n",
      "876543210\n",
      "8642\n"
     ]
    }
   ],
   "source": [
    "s = '012345678'\n",
    "print('s =',s)\n",
    "print(s[1:8:2]) # 从index为1:8间隔一个输出\n",
    "print(s[::2])\n",
    "print(s[::-1]) #从后往前\n",
    "print(s[8:1:-2])"
   ]
  },
  {
   "cell_type": "markdown",
   "metadata": {},
   "source": [
    "## 模式匹配"
   ]
  },
  {
   "cell_type": "code",
   "execution_count": 52,
   "metadata": {},
   "outputs": [
    {
     "name": "stdout",
     "output_type": "stream",
     "text": [
      "#re.match:从开始匹配，没有返回none\n",
      "在起始位置匹配: (0, 3)\n",
      "不在起始位置匹配: None\n",
      "matchObj.group() : Cats are smarter than dogs\n",
      "matchObj.group(1) : Cats\n",
      "matchObj.group(2) : smarter\n"
     ]
    }
   ],
   "source": [
    "# match\n",
    "import re\n",
    "\n",
    "print('#re.match:从开始匹配，没有返回none')\n",
    "print('在起始位置匹配:',re.match('www', 'www.runoob.com').span())  # 在起始位置匹配\n",
    "print('不在起始位置匹配:',re.match('com', 'www.runoob.com'))         # 不在起始位置匹配\n",
    "line = \"Cats are smarter than dogs\"\n",
    " \n",
    "matchObj = re.match( r'(.*) are (.*?) .*', line, re.M|re.I)\n",
    " \n",
    "if matchObj:\n",
    "   print(\"matchObj.group() :\", matchObj.group())\n",
    "   print(\"matchObj.group(1) :\", matchObj.group(1))\n",
    "   print(\"matchObj.group(2) :\", matchObj.group(2))\n",
    "else:\n",
    "   print(\"No match!!\")"
   ]
  },
  {
   "cell_type": "code",
   "execution_count": 57,
   "metadata": {},
   "outputs": [
    {
     "name": "stdout",
     "output_type": "stream",
     "text": [
      "#re.search：匹配整个字符串，直到找到一个匹配\n",
      "\n",
      " match和search区别：\n",
      "'Cats are smarter than dogs'\n",
      "No match!!\n",
      "search --> matchObj.group() :  dogs\n"
     ]
    }
   ],
   "source": [
    "print(\"#re.search：匹配整个字符串，直到找到一个匹配\")\n",
    "print('\\n match和search区别：')\n",
    "line = \"Cats are smarter than dogs\";\n",
    "print('\\''+line+'\\'')\n",
    "\n",
    "matchObj = re.match( r'dogs', line, re.M|re.I)\n",
    "if matchObj:\n",
    "   print(\"match --> matchObj.group() : \", matchObj.group())\n",
    "else:\n",
    "   print(\"No match!!\")\n",
    " \n",
    "matchObj = re.search( r'dogs', line, re.M|re.I)\n",
    "if matchObj:\n",
    "   print(\"search --> matchObj.group() : \", matchObj.group())\n",
    "else:\n",
    "   print(\"No match!!\")"
   ]
  },
  {
   "cell_type": "markdown",
   "metadata": {},
   "source": [
    "### Map"
   ]
  },
  {
   "cell_type": "code",
   "execution_count": 3,
   "metadata": {},
   "outputs": [
    {
     "name": "stdout",
     "output_type": "stream",
     "text": [
      "[1, 4, 9, 16, 25]\n",
      "[3, 7, 11, 15, 19]\n"
     ]
    }
   ],
   "source": [
    "#map(function, iterable, ...)\n",
    "\n",
    "def square(x) :            # 计算平方数\n",
    "    return x ** 2\n",
    "print(list(map(square, [1,2,3,4,5])) )  # 计算列表各个元素的平方\n",
    "\n",
    "# lambda 提供了两个列表，对相同位置的列表数据进行相加\n",
    "print(list(map(lambda x, y: x + y, [1, 3, 5, 7, 9], [2, 4, 6, 8, 10])))"
   ]
  },
  {
   "cell_type": "markdown",
   "metadata": {},
   "source": [
    "### 排序\n",
    "#### sort 与 sorted 区别：\n",
    "#### sort 是应用在 list 上的方法，sorted 可以对所有可迭代的对象进行排序操作。\n",
    "\n",
    "#### list 的 sort 方法返回的是对已经存在的列表进行操作，无返回值，而内建函数 sorted 方法返回的是一个新的 list，而不是在原来的基础上进行的操作。\n"
   ]
  },
  {
   "cell_type": "code",
   "execution_count": 5,
   "metadata": {},
   "outputs": [
    {
     "data": {
      "text/plain": [
       "[('dave', 'B', 10), ('jane', 'B', 12), ('john', 'A', 15)]"
      ]
     },
     "execution_count": 5,
     "metadata": {},
     "output_type": "execute_result"
    }
   ],
   "source": [
    "students = [('john', 'A', 15), ('jane', 'B', 12), ('dave', 'B', 10)]\n",
    "sorted(students, key=lambda s: s[2],reverse=False)            # 按年龄排序"
   ]
  },
  {
   "cell_type": "markdown",
   "metadata": {},
   "source": [
    "### 元组 tuple"
   ]
  },
  {
   "cell_type": "code",
   "execution_count": 11,
   "metadata": {},
   "outputs": [
    {
     "name": "stdout",
     "output_type": "stream",
     "text": [
      "0\n",
      "1\n",
      "(1, 2, 3, 4, 5, 6, 7)\n"
     ]
    }
   ],
   "source": [
    "## cannot change after assigning value\n",
    "tup1 = (1, 2, 3, 4)\n",
    "tup2 = (5, 6, 7 )\n",
    "print(tup1.index(1)) ## find the index of a value\n",
    "print(tup1.count(1))\n",
    "print(tup1+tup2) # extend a tuple"
   ]
  },
  {
   "cell_type": "code",
   "execution_count": 28,
   "metadata": {},
   "outputs": [
    {
     "name": "stdout",
     "output_type": "stream",
     "text": [
      "('s', 'p', 'a', 'm')\n",
      "('s', 'p', 'a', 4)\n"
     ]
    }
   ],
   "source": [
    "T = tuple('spam')\n",
    "print(T)\n",
    "T = T[:3]+(4,)\n",
    "print(T)"
   ]
  },
  {
   "cell_type": "markdown",
   "metadata": {},
   "source": [
    "### set"
   ]
  },
  {
   "cell_type": "code",
   "execution_count": 44,
   "metadata": {},
   "outputs": [
    {
     "name": "stdout",
     "output_type": "stream",
     "text": [
      "{'c', 'a', 'b'}\n",
      "{'d', 'b', 'f'}\n",
      "intersection: {'b'} {'b'}\n",
      "union: {'d', 'b', 'f', 'a', 'c'} {'d', 'b', 'f', 'a', 'c'}\n",
      "subset: False\n",
      "add: {'SPAM', 'b'}\n",
      "update: {'SPAM', 'b', 'Y', 'X'}\n",
      "remove: {'SPAM', 'Y', 'X'}\n"
     ]
    }
   ],
   "source": [
    "x = set(['a','b','c'])\n",
    "y = set(['b','d','f'])\n",
    "z = x.intersection(y)\n",
    "print(x)\n",
    "print(y)\n",
    "print('intersection:',z,x&y)\n",
    "print('union:',x|y,x.union(y))\n",
    "print('subset:',x.issubset(y))\n",
    "z.add('SPAM')\n",
    "print('add:',z)\n",
    "z.update(set(['X','Y']))\n",
    "print('update:',z)\n",
    "z.remove('b')\n",
    "print('remove:',z)"
   ]
  },
  {
   "cell_type": "markdown",
   "metadata": {},
   "source": [
    "### list & dict"
   ]
  },
  {
   "cell_type": "code",
   "execution_count": 32,
   "metadata": {},
   "outputs": [
    {
     "name": "stdout",
     "output_type": "stream",
     "text": [
      "['abc', 'ABD', 'aBe', 'bac']\n",
      "['bac', 'aBe', 'ABD', 'abc']\n",
      "/n###\n",
      "[1, 2, 3, 4]\n",
      "[4, 3, 2, 1]\n",
      "[1, 2, 3, 4]\n",
      "/n###\n",
      "['aBe', 'ABD', 'abc']\n",
      "['aBe', 'ABD']\n",
      "['aBe']\n"
     ]
    }
   ],
   "source": [
    "L = ['abc','ABD','aBe','bac']\n",
    "print(L)\n",
    "L.sort(key=str.lower,reverse=True)\n",
    "print(L)\n",
    "\n",
    "print('/n###')\n",
    "l = [1,2,3,4]\n",
    "print(l)\n",
    "l.reverse()\n",
    "print(l)\n",
    "print(list(reversed(l)))\n",
    "\n",
    "print('/n###')\n",
    "del L[0]\n",
    "print(L)\n",
    "L.pop()\n",
    "print(L)\n",
    "L.pop(1)\n",
    "print(L)"
   ]
  },
  {
   "cell_type": "code",
   "execution_count": 45,
   "metadata": {
    "scrolled": true
   },
   "outputs": [
    {
     "name": "stdout",
     "output_type": "stream",
     "text": [
      "{'eggs': 1, 'ham': 2, 'spam': 3}\n",
      "{'name': 'mel', 'age': 45}\n",
      "{'a': 1, 'b': 2, 'c': [1, 2]}\n",
      "{'a': 0, 'b': 0}\n",
      "\n",
      "###\n",
      "eggs \t 1\n",
      "ham \t 2\n",
      "spam \t 3\n",
      "dict_keys(['eggs', 'ham', 'spam'])\n",
      "3\n",
      "0\n",
      "dict_values([1, 2, 3])\n",
      "dict_items([('eggs', 1), ('ham', 2), ('spam', 3)])\n",
      "\n",
      "###\n",
      "{'eggs': 1, 'ham': 2}\n",
      "{'ham': 2}\n"
     ]
    }
   ],
   "source": [
    "# create dict\n",
    "keyslist = ['eggs','ham','spam']\n",
    "valslist = [1,2,3]\n",
    "D = dict(zip(keyslist,valslist))\n",
    "print(D)\n",
    "\n",
    "print(dict([('name','mel'),('age',45)]))\n",
    "print(dict(a=1,b=2,c=[1,2]))\n",
    "\n",
    "D2 = dict.fromkeys(['a','b'],0)\n",
    "print(D2)\n",
    "\n",
    "# print key/value\n",
    "print('\\n###')\n",
    "for key in D:\n",
    "    print(key,'\\t',D[key])\n",
    "\n",
    "\n",
    "print(D.keys())\n",
    "print(D.get('spam',0))\n",
    "print(D.get('else',0))\n",
    "print(D.values())\n",
    "print(D.items())\n",
    "\n",
    "print('\\n###')\n",
    "D.pop('spam')\n",
    "print(D)\n",
    "del D['eggs']\n",
    "print(D)"
   ]
  },
  {
   "cell_type": "code",
   "execution_count": 26,
   "metadata": {},
   "outputs": [
    {
     "name": "stdout",
     "output_type": "stream",
     "text": [
      "[('a', 1), ('b', 2)]\n",
      "[('a', 1), ('b', 2)]\n"
     ]
    }
   ],
   "source": [
    "# 比较\n",
    "D1 = {'a':1,'b':2}\n",
    "D2 = {'a':1,'b':3}\n",
    "\n",
    "print(list(D1.items()))\n",
    "print(sorted(D1.items()))"
   ]
  },
  {
   "cell_type": "markdown",
   "metadata": {},
   "source": [
    "## 输入&输出"
   ]
  },
  {
   "cell_type": "markdown",
   "metadata": {},
   "source": [
    "### I/O"
   ]
  },
  {
   "cell_type": "code",
   "execution_count": 16,
   "metadata": {},
   "outputs": [
    {
     "name": "stdout",
     "output_type": "stream",
     "text": [
      "请输入：Hello Python！\n",
      "你输入的内容是:  Hello Python！\n"
     ]
    }
   ],
   "source": [
    "str = input(\"请输入：\")#Hello Python！\n",
    "print(\"你输入的内容是: \", str)"
   ]
  },
  {
   "cell_type": "markdown",
   "metadata": {},
   "source": [
    "### 格式化"
   ]
  },
  {
   "cell_type": "code",
   "execution_count": 23,
   "metadata": {},
   "outputs": [
    {
     "name": "stdout",
     "output_type": "stream",
     "text": [
      "0.3333333333333333\n",
      "3.333333e-01\n",
      "0.33\n",
      "0.33\n",
      "2.6 2.57\n",
      "0.333333,0.33,0.3333\n",
      "1 spam\n",
      "\n",
      "###\n",
      "spam,ham and [1, 2]\n",
      "\n",
      "###\n",
      "My laptop runs darwin\n",
      "first=s,last=m,middle=['p', 'a']\n",
      "\n",
      "###\n",
      "spam       =   123.4567\n",
      "spam       =   123.4567\n",
      "\n",
      "###\n",
      "999,999,999\n",
      "999,999.12\n"
     ]
    }
   ],
   "source": [
    "num = 1/3.0\n",
    "print(num)\n",
    "print('%e' %num)\n",
    "print('%4.2f' %num)\n",
    "print('{0:4.2f}'.format(num))\n",
    "print('%.1f'%2.567,'{0:.2f}'.format(2.567))\n",
    "print('%f,%.2f,%.*f' %(1/3.0,1/3.0,4,1/3.0)) # 4是精确度\n",
    "print(\"%(n)d %(x)s\" %{\"n\":1,\"x\":\"spam\"}) #输出字典\n",
    "\n",
    "print(\"\\n###\")\n",
    "template = '{motto},{0} and {food}'\n",
    "print(template.format('ham',motto='spam',food=[1,2]))\n",
    "\n",
    "#添加键\n",
    "print(\"\\n###\")\n",
    "import sys\n",
    "print('My {1[spam]} runs {0.platform}'.format(sys,{'spam':'laptop'}))\n",
    "\n",
    "somelist = list('spam')\n",
    "parts = somelist[0],somelist[-1],somelist[1:3]\n",
    "print('first={0},last={1},middle={2}'.format(*parts))\n",
    "\n",
    "#具体格式化\n",
    "print(\"\\n###\")\n",
    "print('{0:10} = {1:>10}'.format('spam',123.4567)) #定义字符宽；右对齐\n",
    "print('%-10s = %10s' %('spam',123.4567))\n",
    "\n",
    "print(\"\\n###\")\n",
    "print('{0:,d}'.format(999999999))\n",
    "print('{:,.2f}'.format(999999.1234))"
   ]
  },
  {
   "cell_type": "code",
   "execution_count": 20,
   "metadata": {
    "scrolled": true
   },
   "outputs": [
    {
     "name": "stdout",
     "output_type": "stream",
     "text": [
      "0.3333333333333333\n",
      "0.3333333333333333\n"
     ]
    }
   ],
   "source": [
    "print(repr(num)) # echos\n",
    "print(str(num))"
   ]
  },
  {
   "cell_type": "markdown",
   "metadata": {},
   "source": [
    "### 读出写入文件"
   ]
  },
  {
   "cell_type": "code",
   "execution_count": 7,
   "metadata": {},
   "outputs": [],
   "source": [
    "D = {'a':1,'b':2}\n",
    "L = [1,2,3]\n",
    "S='spam'\n",
    "\n",
    "myfile = open('test.txt','w')\n",
    "myfile.write(S+'\\n')\n",
    "myfile.write(str(L)+'$'+str(D)+'\\n')\n",
    "myfile.close()"
   ]
  },
  {
   "cell_type": "code",
   "execution_count": 13,
   "metadata": {
    "scrolled": true
   },
   "outputs": [
    {
     "name": "stdout",
     "output_type": "stream",
     "text": [
      "spam\n",
      "\n",
      "[1, 2, 3]${'a': 1, 'b': 2}\n",
      "\n",
      "[1, 2, 3]\n",
      "{'a': 1, 'b': 2}\n",
      "<class 'dict'>\n"
     ]
    }
   ],
   "source": [
    "F = open('test.txt')\n",
    "line = F.readline()\n",
    "print(line)\n",
    "line = F.readline()\n",
    "print(line)\n",
    "parts = line.split('$')\n",
    "print(eval(parts[0])) # convert to any object type\n",
    "print(eval(parts[1]))\n",
    "print(type(eval(parts[1])))"
   ]
  },
  {
   "cell_type": "code",
   "execution_count": 22,
   "metadata": {},
   "outputs": [
    {
     "name": "stdout",
     "output_type": "stream",
     "text": [
      "{'a': 1, 'b': 2}\n",
      "b'\\x80\\x03}q\\x00(X\\x01\\x00\\x00\\x00aq\\x01K\\x01X\\x01\\x00\\x00\\x00bq\\x02K\\x02u.'\n"
     ]
    },
    {
     "ename": "error",
     "evalue": "argument for 's' must be a bytes object",
     "output_type": "error",
     "traceback": [
      "\u001b[0;31m---------------------------------------------------------------------------\u001b[0m",
      "\u001b[0;31merror\u001b[0m                                     Traceback (most recent call last)",
      "\u001b[0;32m<ipython-input-22-a07eb2663b5c>\u001b[0m in \u001b[0;36m<module>\u001b[0;34m()\u001b[0m\n\u001b[1;32m     15\u001b[0m \u001b[0mF\u001b[0m \u001b[0;34m=\u001b[0m \u001b[0mopen\u001b[0m\u001b[0;34m(\u001b[0m\u001b[0;34m'data.bin'\u001b[0m\u001b[0;34m,\u001b[0m\u001b[0;34m'wb'\u001b[0m\u001b[0;34m)\u001b[0m\u001b[0;34m\u001b[0m\u001b[0m\n\u001b[1;32m     16\u001b[0m \u001b[0;32mimport\u001b[0m \u001b[0mstruct\u001b[0m\u001b[0;34m\u001b[0m\u001b[0m\n\u001b[0;32m---> 17\u001b[0;31m \u001b[0mdata\u001b[0m \u001b[0;34m=\u001b[0m \u001b[0mstruct\u001b[0m\u001b[0;34m.\u001b[0m\u001b[0mpack\u001b[0m\u001b[0;34m(\u001b[0m\u001b[0;34m'>i4sh'\u001b[0m\u001b[0;34m,\u001b[0m\u001b[0;36m7\u001b[0m\u001b[0;34m,\u001b[0m\u001b[0;34m'spam'\u001b[0m\u001b[0;34m,\u001b[0m\u001b[0;36m8\u001b[0m\u001b[0;34m)\u001b[0m\u001b[0;34m\u001b[0m\u001b[0m\n\u001b[0m\u001b[1;32m     18\u001b[0m \u001b[0mprint\u001b[0m\u001b[0;34m(\u001b[0m\u001b[0mdata\u001b[0m\u001b[0;34m)\u001b[0m\u001b[0;34m\u001b[0m\u001b[0m\n\u001b[1;32m     19\u001b[0m \u001b[0mF\u001b[0m\u001b[0;34m.\u001b[0m\u001b[0mwrite\u001b[0m\u001b[0;34m(\u001b[0m\u001b[0mdata\u001b[0m\u001b[0;34m)\u001b[0m\u001b[0;34m\u001b[0m\u001b[0m\n",
      "\u001b[0;31merror\u001b[0m: argument for 's' must be a bytes object"
     ]
    }
   ],
   "source": [
    "# pickle 可存储几乎任何python对象的高级工具\n",
    "D={'a':1,'b':2}\n",
    "F = open('datafile.pkl','wb')\n",
    "import pickle\n",
    "pickle.dump(D,F) # 写入\n",
    "F.close\n",
    "\n",
    "F = open('datafile.pkl','rb')\n",
    "E = pickle.load(F) # 读出\n",
    "print(E)\n",
    "\n",
    "print(open('datafile.pkl','rb').read())\n",
    "\n",
    "#存储二进制\n",
    "F = open('data.bin','wb')\n",
    "import struct\n",
    "data = struct.pack('>i4sh',7,'spam',8)\n",
    "print(data)\n",
    "F.write(data)\n",
    "F.close()\n",
    "\n",
    "F = open('data.bin','rb')\n",
    "data = F.read()\n",
    "values = struct.unpack('>i4sh',data)\n",
    "print(values)"
   ]
  },
  {
   "cell_type": "markdown",
   "metadata": {},
   "source": [
    "## 用户自定义的类"
   ]
  },
  {
   "cell_type": "code",
   "execution_count": 5,
   "metadata": {},
   "outputs": [],
   "source": [
    "class Worker:\n",
    "    def __init__(self,name,pay):\n",
    "        self.name = name\n",
    "        self.pay = pay\n",
    "    def lastName(self):\n",
    "        return self.name.split()[-1]\n",
    "    def giveRaise(self,percent):\n",
    "        self.pay *= (1.0 + percent)"
   ]
  },
  {
   "cell_type": "code",
   "execution_count": 6,
   "metadata": {},
   "outputs": [
    {
     "name": "stdout",
     "output_type": "stream",
     "text": [
      "Smith\n",
      "50000\n",
      "55000.00000000001\n"
     ]
    }
   ],
   "source": [
    "bob = Worker('Bob Smith',50000)\n",
    "print(bob.lastName())\n",
    "print(bob.pay)\n",
    "bob.giveRaise(0.1)\n",
    "print(bob.pay)"
   ]
  },
  {
   "cell_type": "markdown",
   "metadata": {},
   "source": [
    "## 数字类型"
   ]
  },
  {
   "cell_type": "code",
   "execution_count": 28,
   "metadata": {},
   "outputs": [
    {
     "name": "stdout",
     "output_type": "stream",
     "text": [
      "The value is:  10\n",
      "hex: 0xa\n",
      "oct: 0o12\n",
      "bin: 0b1010 4\n",
      "100,40,1000000\n",
      "100,ff,FF\n"
     ]
    }
   ],
   "source": [
    "value = 10\n",
    "print('The value is: ',value)\n",
    "print('hex:',hex(value))\n",
    "print('oct:',oct(value))\n",
    "print('bin:',bin(value),value.bit_length())\n",
    "print('{0:o},{1:x},{2:b}'.format(64,64,64))\n",
    "print('%o,%x,%X'%(64,255,255))"
   ]
  },
  {
   "cell_type": "code",
   "execution_count": 9,
   "metadata": {},
   "outputs": [
    {
     "name": "stdout",
     "output_type": "stream",
     "text": [
      "(1+2j)\n"
     ]
    }
   ],
   "source": [
    "# 复数\n",
    "print(complex(1,2))"
   ]
  },
  {
   "cell_type": "code",
   "execution_count": 31,
   "metadata": {},
   "outputs": [
    {
     "name": "stdout",
     "output_type": "stream",
     "text": [
      "power: 8 8\n",
      "abs: 2\n",
      "round: 3\n",
      "/: 1.3333333333333333\n",
      "//: 1\n",
      "2 -3\n",
      "2 -2\n",
      "pi: 3.141592653589793 e: 2.718281828459045\n",
      "sqrt: 1.4142135623730951\n"
     ]
    }
   ],
   "source": [
    "# 数学函数\n",
    "print('power:',pow(2,3),2**3)\n",
    "print('abs:',abs(-2))\n",
    "print('round:',round(2.6))\n",
    "print('/:',4/3)\n",
    "print('//:',4//3) #整除\n",
    "\n",
    "import math\n",
    "print(math.floor(2.5),math.floor(-2.5)) #向下取整 => //\n",
    "print(math.trunc(2.5),math.trunc(-2.5)) #靠0取整\n",
    "\n",
    "print('pi:',math.pi,'e:',math.e)\n",
    "print('sqrt:',math.sqrt(2))"
   ]
  },
  {
   "cell_type": "code",
   "execution_count": 13,
   "metadata": {},
   "outputs": [
    {
     "name": "stdout",
     "output_type": "stream",
     "text": [
      "0.6177098376187721\n",
      "9\n",
      "0.5378783384622591\n",
      "4.01746100535293\n",
      "m\n",
      "61\n",
      "[1, 6, 5, 3, 7]\n"
     ]
    }
   ],
   "source": [
    "# Random 随机\n",
    "import random\n",
    "\n",
    "print(random.random())\n",
    "print( random.randint(1,10) )        # 产生 1 到 10 的一个整数型随机数  \n",
    "print( random.random() )             # 产生 0 到 1 之间的随机浮点数\n",
    "print( random.uniform(1.1,5.4) )     # 产生  1.1 到 5.4 之间的随机浮点数，区间可以不是整数\n",
    "print( random.choice('tomorrow') )   # 从序列中随机选取一个元素\n",
    "print( random.randrange(1,100,2) )   # 生成从1到100的间隔为2的随机整数\n",
    "\n",
    "a=[1,3,5,6,7]                # 将序列a中的元素顺序打乱\n",
    "random.shuffle(a)\n",
    "print(a)"
   ]
  },
  {
   "cell_type": "markdown",
   "metadata": {},
   "source": [
    "## 动态类型"
   ]
  },
  {
   "cell_type": "code",
   "execution_count": 4,
   "metadata": {},
   "outputs": [
    {
     "name": "stdout",
     "output_type": "stream",
     "text": [
      "[4, 2, 3] [4, 2, 3]\n",
      "[5, 2, 3] [4, 2, 3]\n",
      "24 [4, 2, 3]\n",
      "[4, 2, 3] [4, 2, 3]\n"
     ]
    }
   ],
   "source": [
    "L1 = [1,2,3]\n",
    "L2 = L1\n",
    "L1[0] = 4 # 会改变L2\n",
    "print(L1,L2)\n",
    "\n",
    "L2 = L1[:] # 拷贝\n",
    "L1[0] = 5\n",
    "print(L1,L2) #不会改变L2\n",
    "\n",
    "L1 = 24\n",
    "print(L1,L2)\n",
    "\n",
    "import copy\n",
    "X = copy.copy(L2)\n",
    "Y = copy.deepcopy(L2)\n",
    "print(X,Y)"
   ]
  },
  {
   "cell_type": "code",
   "execution_count": 5,
   "metadata": {},
   "outputs": [
    {
     "name": "stdout",
     "output_type": "stream",
     "text": [
      "True\n",
      "False\n"
     ]
    }
   ],
   "source": [
    "print(X == Y) # same value\n",
    "print(X is Y) # same object"
   ]
  },
  {
   "cell_type": "code",
   "execution_count": null,
   "metadata": {},
   "outputs": [],
   "source": []
  }
 ],
 "metadata": {
  "kernelspec": {
   "display_name": "Python 3",
   "language": "python",
   "name": "python3"
  },
  "language_info": {
   "codemirror_mode": {
    "name": "ipython",
    "version": 3
   },
   "file_extension": ".py",
   "mimetype": "text/x-python",
   "name": "python",
   "nbconvert_exporter": "python",
   "pygments_lexer": "ipython3",
   "version": "3.6.4"
  }
 },
 "nbformat": 4,
 "nbformat_minor": 2
}
