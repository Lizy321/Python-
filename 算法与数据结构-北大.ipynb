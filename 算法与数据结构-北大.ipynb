{
 "cells": [
  {
   "cell_type": "markdown",
   "metadata": {},
   "source": [
    "## 面向对象"
   ]
  },
  {
   "cell_type": "code",
   "execution_count": 23,
   "metadata": {},
   "outputs": [],
   "source": [
    "#最大公约数\n",
    "def gcd(m,n):\n",
    "    if m%n == 0:\n",
    "        return n\n",
    "    else:\n",
    "        return(gcd(m,m%n))\n",
    "\n",
    "class Fraction:\n",
    "    def __init__(self,top,bottom):\n",
    "        self.num = top\n",
    "        self.den = bottom\n",
    "    #print out fraction\n",
    "    def show(self):\n",
    "        print(self.num,'/',self.den)\n",
    "    #print string\n",
    "    def __str__(self):\n",
    "        return str(self.num) + '/' + str(self.den)\n",
    "    \n",
    "    #add two fraction\n",
    "    def __add__(self,otherfraction):\n",
    "        # a/b + c/d = (ad + cb) / bd\n",
    "        newnum = self.num*otherfraction.den + self.den*otherfraction.num\n",
    "        newden = self.den*otherfraction.den\n",
    "        common = gcd(newnum,newden)\n",
    "        #print('common:',common)\n",
    "        return Fraction(newnum//common,newden//common)\n",
    "    \n",
    "    # 判断两个分数是否相等\n",
    "    def __eq__(self,other):\n",
    "        firstnum = self.num*other.den\n",
    "        secondnum = self.den*other.num\n",
    "        return firstnum == secondnum\n"
   ]
  },
  {
   "cell_type": "code",
   "execution_count": 24,
   "metadata": {},
   "outputs": [
    {
     "name": "stdout",
     "output_type": "stream",
     "text": [
      "3 / 5\n",
      "3/5\n",
      "3/5\n",
      "19/15\n",
      "True\n"
     ]
    }
   ],
   "source": [
    "myfrac = Fraction(3,5)\n",
    "otherfrac = Fraction(4,6)\n",
    "\n",
    "myfrac.show()\n",
    "print(myfrac) # __str__()\n",
    "print(str(myfrac)) # myfrac.__str__()\n",
    "print(myfrac+otherfrac) # __add__()\n",
    "print(myfrac == Fraction(6,10)) ## __eq__()"
   ]
  },
  {
   "cell_type": "markdown",
   "metadata": {},
   "source": [
    "### 继承"
   ]
  },
  {
   "cell_type": "code",
   "execution_count": 25,
   "metadata": {},
   "outputs": [],
   "source": [
    "class LogicGate:\n",
    "    def __init__(self,n):\n",
    "        self.label = n\n",
    "        self.output = None\n",
    "    def getLabel(self):\n",
    "        return self.label\n",
    "    def getOutput(self):\n",
    "        self.output = self.performGateLogic()\n",
    "        return self.output"
   ]
  },
  {
   "cell_type": "code",
   "execution_count": 60,
   "metadata": {},
   "outputs": [],
   "source": [
    "class BinaryGate(LogicGate):\n",
    "    def __init__(self,n):\n",
    "        LogicGate.__init__(self,n)\n",
    "        self.pinA = None\n",
    "        self.pinB = None\n",
    "#     def getPinA(self):\n",
    "#         return int(input(\"Enter Pin A input for gate\"+self.getLabel()\n",
    "#                         + \"-->\"))\n",
    "    def getPinA(self):\n",
    "        if self.pinA == None:\n",
    "            return int(input(\"Enter Pin A input for gate \" +\n",
    "                        self.getLabel() + \"-->\"))\n",
    "        else:\n",
    "            return self.pinA.getFrom().getOutput()\n",
    "        \n",
    "    def getPinB(self):\n",
    "        if self.pinB == None:\n",
    "            return int(input(\"Enter Pin B input for gate \" +\n",
    "                        self.getLabel() + \"-->\"))\n",
    "        else:\n",
    "            return self.pinA.getFrom().getOutput()\n",
    "        \n",
    "    def setNextPin(self,source):\n",
    "        if self.pinA == None:\n",
    "            self.pinA = source\n",
    "        else:\n",
    "            if self.pinB == None:\n",
    "                self.pinB = source\n",
    "            else:\n",
    "                raise RuntimError(\"Error: NO EMPTY PINS\")"
   ]
  },
  {
   "cell_type": "code",
   "execution_count": 36,
   "metadata": {},
   "outputs": [],
   "source": [
    "class UnaryGate(LogicGate):\n",
    "    def __init__(self,n):\n",
    "        LogicGate.__init__(self,n)\n",
    "        self.pin = None\n",
    "    def getPin(self):\n",
    "        return int(input(\"Enter Pin input for gate\"+self.getLabel()\n",
    "                        + \"-->\"))"
   ]
  },
  {
   "cell_type": "code",
   "execution_count": 57,
   "metadata": {},
   "outputs": [],
   "source": [
    "class AndGate(BinaryGate):\n",
    "    def __init__(self,n):\n",
    "        BinaryGate.__init__(self,n)\n",
    "    def performGateLogic(self):\n",
    "        a = self.getPinA()\n",
    "        b = self.getPinB()\n",
    "        if a==1 and b==1:\n",
    "            return 1\n",
    "        else:\n",
    "            return 0"
   ]
  },
  {
   "cell_type": "code",
   "execution_count": 64,
   "metadata": {},
   "outputs": [
    {
     "name": "stdout",
     "output_type": "stream",
     "text": [
      "Enter Pin A input for gate G2-->1\n",
      "Enter Pin B input for gate G2-->1\n"
     ]
    },
    {
     "data": {
      "text/plain": [
       "1"
      ]
     },
     "execution_count": 64,
     "metadata": {},
     "output_type": "execute_result"
    }
   ],
   "source": [
    "g1 = AndGate(\"G2\")\n",
    "g1.getOutput()"
   ]
  },
  {
   "cell_type": "code",
   "execution_count": 61,
   "metadata": {},
   "outputs": [],
   "source": [
    "class OrGate(BinaryGate):\n",
    "    def __init__(self,n):\n",
    "        BinaryGate.__init__(self,n)\n",
    "    def performGateLogic(self):\n",
    "        a = self.getPinA()\n",
    "        b = self.getPinB()\n",
    "        if a==0 and b==0:\n",
    "            return 0\n",
    "        else:\n",
    "            return 1"
   ]
  },
  {
   "cell_type": "code",
   "execution_count": 62,
   "metadata": {},
   "outputs": [],
   "source": [
    "class Connector:\n",
    "    def __init__(self,fgate,tgate):\n",
    "        self.fromgate = fgate\n",
    "        self.togate = tgate\n",
    "        tgate.setNextPin(self)\n",
    "    def getFrom(self):\n",
    "        return self.fromgate\n",
    "    def getTo(self):\n",
    "        return self.togate\n",
    "    "
   ]
  },
  {
   "cell_type": "code",
   "execution_count": 65,
   "metadata": {},
   "outputs": [
    {
     "name": "stdout",
     "output_type": "stream",
     "text": [
      "Enter Pin A input for gate G1-->1\n",
      "Enter Pin B input for gate G1-->1\n",
      "Enter Pin A input for gate G1-->0\n",
      "Enter Pin B input for gate G1-->0\n"
     ]
    },
    {
     "data": {
      "text/plain": [
       "1"
      ]
     },
     "execution_count": 65,
     "metadata": {},
     "output_type": "execute_result"
    }
   ],
   "source": [
    "g1 = AndGate(\"G1\")\n",
    "g2 = AndGate(\"G2\")\n",
    "g3 = OrGate(\"G3\")\n",
    "\n",
    "c1 = Connector(g1,g3)\n",
    "c2 = Connector(g2,g3)\n",
    "g3.getOutput()"
   ]
  },
  {
   "cell_type": "markdown",
   "metadata": {},
   "source": [
    "### 函数数量级 O( )"
   ]
  },
  {
   "cell_type": "code",
   "execution_count": 66,
   "metadata": {},
   "outputs": [],
   "source": [
    "# 字符串变位 - 字符串的排列组合\n",
    "def anagram_solution(s1,s2):\n",
    "    a_list = list(s2)\n",
    "    \n",
    "    pos1 = 0\n",
    "    still_ok = True\n",
    "    \n",
    "    while pos<len(s1) and still_ok:\n",
    "        pos2 = 0\n",
    "        found = False\n",
    "        "
   ]
  },
  {
   "cell_type": "code",
   "execution_count": 70,
   "metadata": {},
   "outputs": [
    {
     "name": "stdout",
     "output_type": "stream",
     "text": [
      "concat  1.1725968769987958 millionsecons\n",
      "concat  0.07789304800098762 millionsecons\n",
      "concat  0.0375544179987628 millionsecons\n",
      "concat  0.014992010001151357 millionsecons\n"
     ]
    }
   ],
   "source": [
    "# 时间复杂度 -- 字典要比列表快\n",
    "\n",
    "def test1():\n",
    "    l = []\n",
    "    for i in range(1000):\n",
    "        l = l + [i]\n",
    "\n",
    "def test2():\n",
    "    l = []\n",
    "    for i in range(1000):\n",
    "        l.append(i)\n",
    "\n",
    "def test3():\n",
    "    l = [i for i in range(1000)]\n",
    "    \n",
    "def test4():\n",
    "    l = list(range(1000))\n",
    "        \n",
    "import timeit\n",
    "from timeit import Timer\n",
    "\n",
    "t1 = Timer(\"test1()\",\"from __main__ import test1\")\n",
    "print(\"concat \",t1.timeit(number=1000),\"millionsecons\")\n",
    "\n",
    "t2 = Timer(\"test2()\",\"from __main__ import test2\")\n",
    "print(\"concat \",t2.timeit(number=1000),\"millionsecons\")\n",
    "\n",
    "t3 = Timer(\"test3()\",\"from __main__ import test3\")\n",
    "print(\"concat \",t3.timeit(number=1000),\"millionsecons\")\n",
    "\n",
    "t4 = Timer(\"test4()\",\"from __main__ import test4\")\n",
    "print(\"concat \",t4.timeit(number=1000),\"millionsecons\")\n"
   ]
  },
  {
   "cell_type": "code",
   "execution_count": 73,
   "metadata": {},
   "outputs": [
    {
     "name": "stdout",
     "output_type": "stream",
     "text": [
      "[1, 2, 3, 4]\n",
      "[1, 2, 3]\n"
     ]
    }
   ],
   "source": [
    "l = [1,2,3,4]\n",
    "print(l)\n",
    "l.pop()\n",
    "print(l)"
   ]
  },
  {
   "cell_type": "markdown",
   "metadata": {},
   "source": [
    "### 数据结构类型"
   ]
  },
  {
   "cell_type": "code",
   "execution_count": 1,
   "metadata": {},
   "outputs": [],
   "source": [
    "## 栈 -- LIFO (later in first out)\n",
    "# Stack()\n",
    "# s.is_empty(); s.push(something);s.peek(); s.size(); s.pop()\n",
    "\n",
    "## 队列 -- FIFO\n",
    "# Queue()\n",
    "# q.isEmpty(); q.enqueue(s.t); q.size();q.dequeue()"
   ]
  },
  {
   "cell_type": "code",
   "execution_count": 2,
   "metadata": {},
   "outputs": [
    {
     "name": "stdout",
     "output_type": "stream",
     "text": [
      "2\n",
      "['dog', 4]\n",
      "['dog']\n"
     ]
    }
   ],
   "source": [
    "class Queue:\n",
    "    def __init__(self):\n",
    "        self.items=[]\n",
    "    def isEmpty(self):\n",
    "        return self.items == []\n",
    "    def enqueue(self,item):\n",
    "        self.items.insert(0,item)\n",
    "    def dequeue(self):\n",
    "        return self.items.pop()\n",
    "    def size(self):\n",
    "        return len(self.items)\n",
    "    def show(self):\n",
    "        print(self.items)\n",
    "q = Queue()\n",
    "q.enqueue(4)\n",
    "q.enqueue('dog')\n",
    "print(q.size())\n",
    "q.show()\n",
    "q.dequeue()\n",
    "q.show()"
   ]
  },
  {
   "cell_type": "code",
   "execution_count": 3,
   "metadata": {},
   "outputs": [],
   "source": [
    "# 模拟打印任务"
   ]
  },
  {
   "cell_type": "markdown",
   "metadata": {},
   "source": [
    "### 双端队列"
   ]
  },
  {
   "cell_type": "code",
   "execution_count": null,
   "metadata": {},
   "outputs": [],
   "source": [
    "# Deque()\n",
    "# addFront(item); addRear(item); \n",
    "# removeFront(); removeRear(); isEmpty(); size()"
   ]
  },
  {
   "cell_type": "code",
   "execution_count": 4,
   "metadata": {},
   "outputs": [],
   "source": [
    "class Deque():\n",
    "    def __init__(self):\n",
    "        self.items = []\n",
    "    def isEmpty(self):\n",
    "        return self.items == []\n",
    "    def addFront(self,item):\n",
    "        self.items.append(item)\n",
    "    def addRear(self,item):\n",
    "        self.items.insert(0,item)\n",
    "    def removeFront(self):\n",
    "        return self.items.pop()\n",
    "    def removeRear(self):\n",
    "        return self.items.pop(0)\n",
    "    def size(self):\n",
    "        return len(self.items)"
   ]
  },
  {
   "cell_type": "code",
   "execution_count": 6,
   "metadata": {},
   "outputs": [
    {
     "name": "stdout",
     "output_type": "stream",
     "text": [
      "True\n"
     ]
    }
   ],
   "source": [
    "# 回文字： abcba\n",
    "def palchecker(aString):\n",
    "    chardeque = Deque()\n",
    "    for ch in aString:\n",
    "        chardeque.addRear(ch)\n",
    "    stillEqual = True\n",
    "    while chardeque.size() > 1 and stillEqual:\n",
    "        first = chardeque.removeFront()\n",
    "        end = chardeque.removeRear()\n",
    "        if first!= end:\n",
    "            stillEqual = False\n",
    "    return stillEqual\n",
    "\n",
    "print(palchecker('abcba'))"
   ]
  },
  {
   "cell_type": "markdown",
   "metadata": {},
   "source": [
    "### 链表"
   ]
  },
  {
   "cell_type": "code",
   "execution_count": 8,
   "metadata": {},
   "outputs": [
    {
     "data": {
      "text/plain": [
       "39"
      ]
     },
     "execution_count": 8,
     "metadata": {},
     "output_type": "execute_result"
    }
   ],
   "source": [
    "class Node:\n",
    "    def __init__(self,initdata):\n",
    "        self.data = initdata\n",
    "        self.next = None\n",
    "    def getData(self):\n",
    "        return self.data\n",
    "    def getNext(self):\n",
    "        return self.next\n",
    "    def setData(self,newdata):\n",
    "        self.data = newdata\n",
    "    def setNext(self,newnext):\n",
    "        self.next = newnext\n",
    "\n",
    "temp = Node(39)\n",
    "temp.getData()"
   ]
  },
  {
   "cell_type": "code",
   "execution_count": 14,
   "metadata": {},
   "outputs": [],
   "source": [
    "# unordered list\n",
    "# head --> item_n --> ... --> item_1\n",
    "class UnorderedList:\n",
    "    def __init__(self):\n",
    "        self.head = None\n",
    "    def isEmpty(self):\n",
    "        return self.head==None\n",
    "    def add(self,item):\n",
    "        temp = Node(item)\n",
    "        temp.setNext(self.head)\n",
    "        self.head = temp\n",
    "    # 链表的遍历 -- traversal\n",
    "    def size(self):\n",
    "        current = self.head\n",
    "        count = 0\n",
    "        while current != None:\n",
    "            count = count+1\n",
    "            current = current.getNext()\n",
    "        return count\n",
    "    \n",
    "    def search(self,item):\n",
    "        current = self.head\n",
    "        found = False\n",
    "        while current != None and not found:\n",
    "            if current.getData() == item:\n",
    "                found = True\n",
    "            else:\n",
    "                current = current.getNext()\n",
    "        return found\n",
    "    \n",
    "    def remove(self,item):\n",
    "        current = self.head\n",
    "        previous = None\n",
    "        found = False\n",
    "        while not found:\n",
    "            if current.getData() == item:\n",
    "                found = True\n",
    "            else:\n",
    "                previous = current\n",
    "                current = current.getNext()\n",
    "        if previous = None:\n",
    "            self.head = current.getNext()\n",
    "        else:\n",
    "            previous.setNext(current.getNext())\n",
    "    # def append(self,item):\n",
    "    # def insert(self,idx,item):\n",
    "    # def pop(self):"
   ]
  },
  {
   "cell_type": "code",
   "execution_count": 15,
   "metadata": {},
   "outputs": [
    {
     "name": "stdout",
     "output_type": "stream",
     "text": [
      "3\n",
      "True\n"
     ]
    }
   ],
   "source": [
    "mylist = UnorderedList()\n",
    "mylist.add(1)\n",
    "mylist.add(4)\n",
    "mylist.add(2)\n",
    "print(mylist.size())\n",
    "print(mylist.search(4))"
   ]
  },
  {
   "cell_type": "code",
   "execution_count": 1,
   "metadata": {},
   "outputs": [
    {
     "ename": "IndentationError",
     "evalue": "expected an indented block (<ipython-input-1-21b2a7204763>, line 8)",
     "output_type": "error",
     "traceback": [
      "\u001b[0;36m  File \u001b[0;32m\"<ipython-input-1-21b2a7204763>\"\u001b[0;36m, line \u001b[0;32m8\u001b[0m\n\u001b[0;31m    def remove(self,item):\u001b[0m\n\u001b[0m      ^\u001b[0m\n\u001b[0;31mIndentationError\u001b[0m\u001b[0;31m:\u001b[0m expected an indented block\n"
     ]
    }
   ],
   "source": [
    "# Ordered list\n",
    "class OrderedList():\n",
    "    def __init__(self):\n",
    "        self.head = None\n",
    "        \n",
    "    def add(self,item):\n",
    "        current = self.head\n",
    "        previous = None\n",
    "        stop = False\n",
    "        while current != None and not stop:\n",
    "            if current.get_data() > item:\n",
    "                stop = True\n",
    "            else:\n",
    "                previous  = current\n",
    "                current = current.get_next()\n",
    "        temp = Node(item)\n",
    "        if previous == None:\n",
    "            temp.set_next(self.head)\n",
    "            self.head = temp\n",
    "        else:\n",
    "            temp.set_next(current)\n",
    "            previous.set_next(temp)\n",
    "    \n",
    "    def remove(self,item):\n",
    "    \n",
    "    def search(self,item):\n",
    "        current = self.head\n",
    "        found = False\n",
    "        stop = False\n",
    "        while current != None and not found and not stop:\n",
    "            if current.get_data() == item:\n",
    "                found = True\n",
    "            else:\n",
    "                if current.get_data()>item:\n",
    "                    stop = True\n",
    "                else:\n",
    "                    current = current.get_next()\n",
    "        return found\n",
    "        \n",
    "    def isEmpty(self):\n",
    "    \n",
    "    def size(self):\n",
    "    \n",
    "    def index(self,item):\n",
    "    \n",
    "    def pop(self):"
   ]
  },
  {
   "cell_type": "markdown",
   "metadata": {},
   "source": [
    "## 树"
   ]
  },
  {
   "cell_type": "code",
   "execution_count": 1,
   "metadata": {},
   "outputs": [],
   "source": [
    "# Node; Edge; Root; Path; \n",
    "# Children; Parent; Sibling\n",
    "# Subtree; Leaf Node; Level; Height"
   ]
  },
  {
   "cell_type": "code",
   "execution_count": 6,
   "metadata": {},
   "outputs": [],
   "source": [
    "myTree = ['a',['b',['d',[],[]],\n",
    "               ['e',[],[]]],['c',[]]]\n",
    "\n",
    "def BinaryTree(r):\n",
    "    return [r,[],[]]\n",
    "\n",
    "def insertLeft(root,newBranch):\n",
    "    t = root.pop(1)\n",
    "    if len(t)>1:\n",
    "        root.insert(1,[newBranch,t,[]])\n",
    "    else:\n",
    "        root.insert(1,[newBranch,[],[]])\n",
    "    return root\n",
    "\n",
    "def insertRight(root,newBranch):\n",
    "    t = root.pop(2)\n",
    "    if len(t)>1:\n",
    "        root.insert(2,[newBranch,[],t])\n",
    "    else:\n",
    "        root.insert(2,[newBranch,[],[]])\n",
    "    return root   \n",
    "                       \n",
    "def getRootVal(root):\n",
    "    return root[0]\n",
    "\n",
    "def setRootVal(root,newVal):\n",
    "    root[0] = newVal\n",
    "\n",
    "def getLeftChild(root):\n",
    "    return root[1]\n",
    "\n",
    "def getRightChild(root):\n",
    "    return root[2]"
   ]
  },
  {
   "cell_type": "code",
   "execution_count": 7,
   "metadata": {},
   "outputs": [
    {
     "name": "stdout",
     "output_type": "stream",
     "text": [
      "[3, [5, [4, [], []], []], [7, [], [6, [], []]]]\n",
      "[5, [4, [], []], []]\n",
      "[3, [9, [4, [], []], []], [7, [], [6, [], []]]]\n"
     ]
    }
   ],
   "source": [
    "r = BinaryTree(3)\n",
    "insertLeft(r,4)\n",
    "insertLeft(r,5)\n",
    "insertRight(r,6)\n",
    "insertRight(r,7)\n",
    "print(r)\n",
    "\n",
    "l = getLeftChild(r)\n",
    "print(l)\n",
    "setRootVal(l,9)\n",
    "print(r)"
   ]
  },
  {
   "cell_type": "code",
   "execution_count": 39,
   "metadata": {},
   "outputs": [],
   "source": [
    "class BinaryTree:\n",
    "    def __init__(self,rootObj):\n",
    "        self.key = rootObj\n",
    "        self.leftChild = None\n",
    "        self.rightChild = None\n",
    "    \n",
    "    def insertLeft(self,newNode):\n",
    "        if self.leftChild == None:\n",
    "            self.leftChild = BinaryTree(newNode)\n",
    "        else:\n",
    "            t = BinaryTree(newNode)\n",
    "            t.leftChild = self.leftChild\n",
    "            self.leftChild = t\n",
    "        \n",
    "    def insertRight(self,newNode):\n",
    "        if self.rightChild == None:\n",
    "            self.rightChild = BinaryTree(newNode)\n",
    "        else:\n",
    "            t = BinaryTree(newNode)\n",
    "            t.rightChild = self.rightChild\n",
    "            self.rightChild = t\n",
    "        \n",
    "    def getLeftChild(self):\n",
    "        return self.leftChild\n",
    "    def getRightChild(self):\n",
    "        return self.rightChild\n",
    "    \n",
    "    def setRootVal(self,val):\n",
    "        self.key = val\n",
    "    def getRootVal(self):\n",
    "        return self.key\n",
    "    \n",
    "    def preorder(self):\n",
    "        print(self.key)\n",
    "        if self.leftChild:\n",
    "            self.leftChild.preorder()\n",
    "        if self.rightChild:\n",
    "            self.rightChild.preorder()\n",
    "            \n",
    "    def postorder(self):\n",
    "        if self.leftChild:\n",
    "            self.getLeftChild().postorder()\n",
    "        if self.rightChild:\n",
    "            self.getRightChild().postorder()\n",
    "        print(self.getRootVal())\n",
    "    \n",
    "    def inorder(self):\n",
    "        if self.leftChild:\n",
    "            self.getLeftChild().inorder()\n",
    "        print(self.getRootVal())\n",
    "        if self.rightChild:\n",
    "            self.getRightChild().inorder()\n",
    "        "
   ]
  },
  {
   "cell_type": "code",
   "execution_count": 41,
   "metadata": {},
   "outputs": [
    {
     "name": "stdout",
     "output_type": "stream",
     "text": [
      "a\n",
      "None\n",
      "<__main__.BinaryTree object at 0x103925cf8>\n",
      "b\n",
      "<__main__.BinaryTree object at 0x1039251d0>\n",
      "Preorder:\n",
      "a\n",
      "c\n",
      "b\n",
      "hello\n",
      "Postorder:\n",
      "b\n",
      "c\n",
      "hello\n",
      "a\n",
      "Inorder:\n",
      "b\n",
      "c\n",
      "a\n",
      "hello\n"
     ]
    }
   ],
   "source": [
    "r = BinaryTree('a')\n",
    "print(r.getRootVal())\n",
    "print(r.getLeftChild())\n",
    "r.insertLeft('b')\n",
    "print(r.getLeftChild())\n",
    "print(r.getLeftChild().getRootVal())\n",
    "r.insertLeft('c')\n",
    "r.insertRight('hello')\n",
    "print(r)\n",
    "\n",
    "print(\"Preorder:\")\n",
    "r.preorder()\n",
    "print(\"Postorder:\")\n",
    "r.postorder()\n",
    "print(\"Inorder:\")\n",
    "r.inorder()"
   ]
  },
  {
   "cell_type": "code",
   "execution_count": null,
   "metadata": {},
   "outputs": [],
   "source": []
  }
 ],
 "metadata": {
  "kernelspec": {
   "display_name": "Python 3",
   "language": "python",
   "name": "python3"
  },
  "language_info": {
   "codemirror_mode": {
    "name": "ipython",
    "version": 3
   },
   "file_extension": ".py",
   "mimetype": "text/x-python",
   "name": "python",
   "nbconvert_exporter": "python",
   "pygments_lexer": "ipython3",
   "version": "3.6.4"
  }
 },
 "nbformat": 4,
 "nbformat_minor": 2
}
